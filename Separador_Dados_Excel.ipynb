{
 "cells": [
  {
   "cell_type": "markdown",
   "metadata": {
    "collapsed": true
   },
   "source": [
    "***ESTE NOTEBOOK TEM COMO OBJETIVO SERVIR DE BASE PARA CRIAÇÃO DE UMA FERRAMENTE DE SEPARAÇÃO E CONVERSÃO DE ARQUIVOS DE E PARA XLSX*** <br>\n",
    "Alguns pontos devem ser ressaltados: \n",
    "- Jupyter é uma ferramente de geração de relatório que compila códigos por células, suporta R Python Julia e outras n linguagens\n",
    "- Cade célula deve ser executada em ordem top-down para a correta utilização do programa\n",
    "- Os arquivos de separação e conversão devem estar dentro da mesma pasta do relatório, ou então devem ser especificados precedidos do diretório. Exemplo: \"/home/docs/file.xlsx\""
   ]
  },
  {
   "cell_type": "code",
   "execution_count": 22,
   "metadata": {},
   "outputs": [],
   "source": [
    "#importando bibliotecas necessárias \n",
    "import numpy as np\n",
    "import pandas as pd\n",
    "import math "
   ]
  },
  {
   "cell_type": "code",
   "execution_count": 4,
   "metadata": {},
   "outputs": [],
   "source": [
    "#lendo as base de dados de dentro da pasta\n",
    "acidentes = pd.read_excel('ACIDENTES_2015.xlsx')\n",
    "fiscalizacoes = pd.read_csv('Ofuscado_2015-12-11_sex_A.csv')"
   ]
  },
  {
   "cell_type": "code",
   "execution_count": 9,
   "metadata": {},
   "outputs": [
    {
     "data": {
      "text/html": [
       "<div>\n",
       "<style>\n",
       "    .dataframe thead tr:only-child th {\n",
       "        text-align: right;\n",
       "    }\n",
       "\n",
       "    .dataframe thead th {\n",
       "        text-align: left;\n",
       "    }\n",
       "\n",
       "    .dataframe tbody tr th {\n",
       "        vertical-align: top;\n",
       "    }\n",
       "</style>\n",
       "<table border=\"1\" class=\"dataframe\">\n",
       "  <thead>\n",
       "    <tr style=\"text-align: right;\">\n",
       "      <th></th>\n",
       "      <th>nome1</th>\n",
       "      <th>nome2</th>\n",
       "      <th>nome3</th>\n",
       "      <th>nome4</th>\n",
       "      <th>nome5</th>\n",
       "      <th>nome6</th>\n",
       "      <th>nome7</th>\n",
       "      <th>nome8</th>\n",
       "      <th>nome9</th>\n",
       "    </tr>\n",
       "  </thead>\n",
       "  <tbody>\n",
       "    <tr>\n",
       "      <th>0</th>\n",
       "      <td>AT007</td>\n",
       "      <td>2015-12-11</td>\n",
       "      <td>00:00:30</td>\n",
       "      <td>1</td>\n",
       "      <td>60</td>\n",
       "      <td>50.0</td>\n",
       "      <td>3.8</td>\n",
       "      <td>2</td>\n",
       "      <td>NaN</td>\n",
       "    </tr>\n",
       "    <tr>\n",
       "      <th>1</th>\n",
       "      <td>AT007</td>\n",
       "      <td>2015-12-11</td>\n",
       "      <td>00:01:12</td>\n",
       "      <td>2</td>\n",
       "      <td>60</td>\n",
       "      <td>51.0</td>\n",
       "      <td>3.1</td>\n",
       "      <td>2</td>\n",
       "      <td>NaN</td>\n",
       "    </tr>\n",
       "    <tr>\n",
       "      <th>2</th>\n",
       "      <td>AT007</td>\n",
       "      <td>2015-12-11</td>\n",
       "      <td>00:01:25</td>\n",
       "      <td>2</td>\n",
       "      <td>60</td>\n",
       "      <td>49.0</td>\n",
       "      <td>4.2</td>\n",
       "      <td>2</td>\n",
       "      <td>NaN</td>\n",
       "    </tr>\n",
       "    <tr>\n",
       "      <th>3</th>\n",
       "      <td>AT007</td>\n",
       "      <td>2015-12-11</td>\n",
       "      <td>00:01:54</td>\n",
       "      <td>2</td>\n",
       "      <td>60</td>\n",
       "      <td>48.0</td>\n",
       "      <td>3.2</td>\n",
       "      <td>2</td>\n",
       "      <td>NaN</td>\n",
       "    </tr>\n",
       "    <tr>\n",
       "      <th>4</th>\n",
       "      <td>AT007</td>\n",
       "      <td>2015-12-11</td>\n",
       "      <td>00:02:11</td>\n",
       "      <td>2</td>\n",
       "      <td>60</td>\n",
       "      <td>48.0</td>\n",
       "      <td>3.4</td>\n",
       "      <td>2</td>\n",
       "      <td>NaN</td>\n",
       "    </tr>\n",
       "  </tbody>\n",
       "</table>\n",
       "</div>"
      ],
      "text/plain": [
       "   nome1       nome2     nome3  nome4  nome5  nome6  nome7  nome8 nome9\n",
       "0  AT007  2015-12-11  00:00:30      1     60   50.0    3.8      2   NaN\n",
       "1  AT007  2015-12-11  00:01:12      2     60   51.0    3.1      2   NaN\n",
       "2  AT007  2015-12-11  00:01:25      2     60   49.0    4.2      2   NaN\n",
       "3  AT007  2015-12-11  00:01:54      2     60   48.0    3.2      2   NaN\n",
       "4  AT007  2015-12-11  00:02:11      2     60   48.0    3.4      2   NaN"
      ]
     },
     "execution_count": 9,
     "metadata": {},
     "output_type": "execute_result"
    }
   ],
   "source": [
    "#substituir 'nomes' pelos nomes especificados no documento referente a base de dados de fiscalizacoes\n",
    "fiscalizacoes.columns = ['nome1','nome2','nome3','nome4','nome5','nome6','nome7','nome8','nome9']\n",
    "fiscalizacoes.head()"
   ]
  },
  {
   "cell_type": "code",
   "execution_count": 61,
   "metadata": {},
   "outputs": [
    {
     "name": "stdout",
     "output_type": "stream",
     "text": [
      "Número de linhas do dataframe FISCALIZACOES = 1168591\n",
      "Número de linhas do dataframe ACIDENTES     = 23534\n"
     ]
    }
   ],
   "source": [
    "print('Número de linhas do dataframe FISCALIZACOES = {}'.format(len(fiscalizacoes[:])))\n",
    "print('Número de linhas do dataframe ACIDENTES     = {}'.format(len(acidentes[:])))"
   ]
  },
  {
   "cell_type": "markdown",
   "metadata": {},
   "source": [
    "***AS FUNÇÕES ABAIXO SÃO O CORE DO DOCUMENTO, DESCREVENDO:***\n",
    "- Função create_xlsx cria um arquivo excel recebendo como parâmetro a base de dados e o nome do arquivo\n",
    "- Função separar_doc gera uma rotina que separa uma base de dados em documentos de tamanhos iguais. Esta recebe como parâmetros a base de dados, a quantidade de documentos a ser gerado(padrao 2) e o nome do arquivo(padrao file)"
   ]
  },
  {
   "cell_type": "code",
   "execution_count": 60,
   "metadata": {},
   "outputs": [],
   "source": [
    "def create_xlsx(dataframe, nome):\n",
    "    formato = 'xlsx'\n",
    "    arquivo = '{}.{}'.format(nome, formato)\n",
    "    writer = pd.ExcelWriter(arquivo, engine='xlsxwriter')\n",
    "    dataframe.to_excel(writer, sheet_name='base_dados')\n",
    "    print(\"Arquivo {} criado com sucesso! Número de linhas: {}\".format(arquivo, len(dataframe[:])))\n",
    "    \n",
    "def separar_doc(dataframe, quantidade_docs=2, nome='file'):\n",
    "    linhas  = math.ceil(len(dataframe[:])/quantidade_docs)\n",
    "    begin_index = 0\n",
    "    end_index = linhas\n",
    "    for i in range(quantidade_docs):\n",
    "        arquivo = '{}_{}-{}'.format(nome, begin_index, end_index)\n",
    "        create_xlsx(dataframe[begin_index:end_index], arquivo)\n",
    "        begin_index = end_index\n",
    "        end_index += linhas   \n",
    "    print('Rotina completa!')\n"
   ]
  },
  {
   "cell_type": "code",
   "execution_count": 63,
   "metadata": {},
   "outputs": [],
   "source": [
    "#tirar o cerquilha do exemplo abaixo e executar\n",
    "#separar_doc(acidentes, quantidade_docs=3, nome='base_acidentes')"
   ]
  }
 ],
 "metadata": {
  "kernelspec": {
   "display_name": "Python 3",
   "language": "python",
   "name": "python3"
  },
  "language_info": {
   "codemirror_mode": {
    "name": "ipython",
    "version": 3
   },
   "file_extension": ".py",
   "mimetype": "text/x-python",
   "name": "python",
   "nbconvert_exporter": "python",
   "pygments_lexer": "ipython3",
   "version": "3.6.2"
  }
 },
 "nbformat": 4,
 "nbformat_minor": 2
}
